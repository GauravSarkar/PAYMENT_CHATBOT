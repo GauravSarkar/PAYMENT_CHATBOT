{
  "nbformat": 4,
  "nbformat_minor": 0,
  "metadata": {
    "colab": {
      "name": "Banking_chatbot",
      "provenance": []
    },
    "kernelspec": {
      "name": "python3",
      "display_name": "Python 3"
    },
    "language_info": {
      "name": "python"
    }
  },
  "cells": [
    {
      "cell_type": "code",
      "metadata": {
        "colab": {
          "base_uri": "https://localhost:8080/"
        },
        "id": "o02m-52NwhqS",
        "outputId": "07a2bb51-eb81-4a3f-f435-3d800d7ca8bb"
      },
      "source": [
        "!git clone https://github.com/python-engineer/pytorch-chatbot"
      ],
      "execution_count": 1,
      "outputs": [
        {
          "output_type": "stream",
          "text": [
            "Cloning into 'pytorch-chatbot'...\n",
            "remote: Enumerating objects: 41, done.\u001b[K\n",
            "remote: Counting objects: 100% (41/41), done.\u001b[K\n",
            "remote: Compressing objects: 100% (30/30), done.\u001b[K\n",
            "remote: Total 41 (delta 20), reused 28 (delta 10), pack-reused 0\u001b[K\n",
            "Unpacking objects: 100% (41/41), done.\n"
          ],
          "name": "stdout"
        }
      ]
    },
    {
      "cell_type": "code",
      "metadata": {
        "colab": {
          "base_uri": "https://localhost:8080/"
        },
        "id": "gpUDg3-JwtXA",
        "outputId": "51f58f17-464f-4f4e-b06e-4212a1518200"
      },
      "source": [
        "!pip install nltk\n"
      ],
      "execution_count": 2,
      "outputs": [
        {
          "output_type": "stream",
          "text": [
            "Requirement already satisfied: nltk in /usr/local/lib/python3.7/dist-packages (3.2.5)\n",
            "Requirement already satisfied: six in /usr/local/lib/python3.7/dist-packages (from nltk) (1.15.0)\n"
          ],
          "name": "stdout"
        }
      ]
    },
    {
      "cell_type": "code",
      "metadata": {
        "colab": {
          "base_uri": "https://localhost:8080/"
        },
        "id": "579WJzq-wxuK",
        "outputId": "ddce8404-99b6-4980-e7ad-ca78d74c2972"
      },
      "source": [
        "\n",
        "!nltk.download('punkt')\n"
      ],
      "execution_count": 4,
      "outputs": [
        {
          "output_type": "stream",
          "text": [
            "/bin/bash: -c: line 0: syntax error near unexpected token `'punkt''\n",
            "/bin/bash: -c: line 0: `nltk.download('punkt')'\n"
          ],
          "name": "stdout"
        }
      ]
    },
    {
      "cell_type": "code",
      "metadata": {
        "colab": {
          "base_uri": "https://localhost:8080/"
        },
        "id": "mD0zLAY-w5kg",
        "outputId": "92054fdd-2d31-45ea-8b06-37757f1c3098"
      },
      "source": [
        "!python /content/pytorch-chatbot/train.py\n"
      ],
      "execution_count": 8,
      "outputs": [
        {
          "output_type": "stream",
          "text": [
            "[nltk_data] Downloading package punkt to /root/nltk_data...\n",
            "[nltk_data]   Unzipping tokenizers/punkt.zip.\n",
            "26 patterns\n",
            "7 tags: ['delivery', 'funny', 'goodbye', 'greeting', 'items', 'payments', 'thanks']\n",
            "54 unique stemmed words: [\"'s\", 'a', 'accept', 'anyon', 'are', 'bye', 'can', 'card', 'cash', 'credit', 'day', 'deliveri', 'do', 'doe', 'funni', 'get', 'good', 'goodby', 'have', 'hello', 'help', 'hey', 'hi', 'how', 'i', 'is', 'item', 'joke', 'kind', 'know', 'later', 'long', 'lot', 'mastercard', 'me', 'my', 'of', 'onli', 'pay', 'paypal', 'see', 'sell', 'ship', 'someth', 'take', 'tell', 'thank', 'that', 'there', 'what', 'when', 'which', 'with', 'you']\n",
            "54 7\n",
            "Epoch [100/1000], Loss: 1.5430\n",
            "Epoch [200/1000], Loss: 0.6861\n",
            "Epoch [300/1000], Loss: 0.1248\n",
            "Epoch [400/1000], Loss: 0.0292\n",
            "Epoch [500/1000], Loss: 0.0072\n",
            "Epoch [600/1000], Loss: 0.0023\n",
            "Epoch [700/1000], Loss: 0.0011\n",
            "Epoch [800/1000], Loss: 0.0010\n",
            "Epoch [900/1000], Loss: 0.0014\n",
            "Epoch [1000/1000], Loss: 0.0005\n",
            "final loss: 0.0005\n",
            "training complete. file saved to data.pth\n"
          ],
          "name": "stdout"
        }
      ]
    },
    {
      "cell_type": "code",
      "metadata": {
        "colab": {
          "base_uri": "https://localhost:8080/"
        },
        "id": "7dr15qTUxf8E",
        "outputId": "4d0f85df-4edf-4b53-8458-d56fa3b7d36b"
      },
      "source": [
        "!python /content/pytorch-chatbot/chat.py\n"
      ],
      "execution_count": 9,
      "outputs": [
        {
          "output_type": "stream",
          "text": [
            "Let's chat! (type 'quit' to exit)\n",
            "You: hI i WANT TO MAKE A PAYMENT\n",
            "Sam: Hi there, how can I help?\n",
            "You: I WANT TO MAKE A PAYMENT\n",
            "Sam: We accept most major credit cards, and Paypal\n",
            "You: PAYPAL IT IS\n",
            "Sam: I do not understand...\n",
            "You: I WANT TO MAKE PAYMENT THROUGH PAYPAL\n",
            "Sam: We accept VISA, Mastercard and Paypal\n",
            "You: VISA\n",
            "Sam: I do not understand...\n",
            "You: I WANT TO USE VISA\n",
            "Sam: I do not understand...\n",
            "You: VISA PLEASE\n",
            "Sam: I do not understand...\n",
            "You: PAYPAL\n",
            "Sam: We accept VISA, Mastercard and Paypal\n",
            "You: Traceback (most recent call last):\n",
            "  File \"/content/pytorch-chatbot/chat.py\", line 32, in <module>\n",
            "    sentence = input(\"You: \")\n",
            "KeyboardInterrupt\n",
            "^C\n"
          ],
          "name": "stdout"
        }
      ]
    }
  ]
}